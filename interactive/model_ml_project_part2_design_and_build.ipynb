{
 "cells": [
  {
   "cell_type": "markdown",
   "id": "8b471cd2",
   "metadata": {},
   "source": [
    "# Model ML Project: Time for Tea\n",
    "\n",
    "## Part 2 Design and Build\n",
    "\n",
    "This project uses the time-for-tea use case to demo the process of building a complete ML project, excluding deployment.\n",
    "\n",
    "The process is based on Chapter 2 of:\n",
    "\n",
    "### **Hands on Machine Learning with Scikit-Learn, Keras and TensorFlow**\n",
    "\n",
    "1. Look at the big picture.\n",
    "2. Get the data.\n",
    "3. Discover and visualize the data to gain insights.\n",
    "4. Prepare the data for Machine Learning algorithms.\n",
    "5. Select a model and train it.\n",
    "6. Fine-tune your model.\n",
    "7. Present your solution. (not included here)\n",
    "8. Launch, monitor, and maintain your system. (not included here)\n",
    "\n",
    "\n",
    "This part describes the main stages of the project including the ML itself"
   ]
  },
  {
   "cell_type": "markdown",
   "id": "47c1350d",
   "metadata": {},
   "source": [
    "## <font color='blue'>Headline Findings</font>\n",
    "\n",
    "NB: The aim of this exercise was to demo the main staps in a ML project, there are many other things that could be done to optimise the approach and models and potentially improve results.\n",
    "\n",
    "We pre-processed the data (kettle energy use, total energy use) to transform it from ~8 sec to 5 minutely. From this we extracted features for each 5 min period, including the max_diff, max-minus-min, max power, mean power, weekday/weekend, daytime/nighttime for each 5 min period. Of these the max_diff, mean, max-minus-min and max where most important.\n",
    "\n",
    "The random forest model performed best, closely followed by SVM (but SVM was a lot slower). An ensemble of RF and SVM gave a small improvement. Final test results against the unseen test data were:\n",
    "\n",
    "Precision: 0.906\n",
    "Recall: 0.752\n",
    "\n",
    "The model trained against one house was completely unable to predict kettle use at a new house, indicating overfitting are an issue with the approach. \n",
    "\n",
    "#### Side experiemnts\n",
    "Just out of curiosity we did a couple of side experiments (details in separate notebooks):\n",
    "\n",
    "1. Fitting model to data from several homes and then trying to predict a home that the model hadn't seen. The model failed to predict the new home.\n",
    "\n",
    "2. Applying a very simply numpy-based approach that just looked for spikes of the right hight (no ML algo). This was a bit better than the ensemble model!! However it needed tuning quite precisely to the kettle size so would require this as input for each house. However, given the ML models weren't transferable so far to new homes, they may also require this as an input."
   ]
  },
  {
   "cell_type": "markdown",
   "id": "b2c74b3e",
   "metadata": {},
   "source": [
    "## <font color='blue'>Overall Project Aim</font>\n",
    "\n",
    "The aim of this project is to explore whether it is possible to identify kettle use from a disaggregated data set using ML algorithms. The output would be used to alert carers to potentail issues with a vulnerable person.\n",
    "\n",
    "The project uses the freely available REFIT data set: https://pureportal.strath.ac.uk/en/datasets/refit-electrical-load-measurements-cleaned"
   ]
  },
  {
   "cell_type": "markdown",
   "id": "2cd671e0",
   "metadata": {},
   "source": [
    "## <font color=blue>1. Look at the Big Picture</font>\n",
    "\n",
    "### Frame the problem\n",
    "\n",
    " - We want to be able to identify instances of kettle usage from aggregated smart meter data of the type collected by a electricity CAD device (e.g. minutely total energy consumption).\n",
    " \n",
    "Use Case\n",
    " \n",
    " - The use case is alerting if no kettle use is detected during a period where we would expect it (e.g. there is noboady active at home when we expect there to be, indicating a potential issue).\n",
    " \n",
    " - The output of the model will be a time series (e.g. Half-Hourly) with a Boolean value for kettle use detected. This would be ingested by an alerting algorithm that would match the Boolean with an expected value and alert if discrepancies are above a threshold.\n",
    " \n",
    " - A further iteration could include a probability that kettle was detected in addition to the Boolean.\n",
    " \n",
    "Current Solution\n",
    "\n",
    " - Simply compare energy use over last e.g. Hour with use over last few weeks.\n",
    " - This has an advantage in that it also detects broader changes in energy use which could be important for wellbeing but it is very imprecise and hard to interpret. \n",
    " - Also it can't detect absence or presence of specific actions from an individual which are simpler to interpret (e.g. no kettle use before midday -> very unsual, check on person; kettle use detected before midday -> person is up and active).\n",
    " \n",
    "ML type\n",
    "\n",
    " - Supervised, batch-learning, classification problem\n",
    " - We will need labelled data of total energy consumption and whether period included kettle usage.\n",
    " - Later iterations could try to generalise to different kettle types or households with different appliance mixes which could include clustering but we're unlikely to have enough data for this in the short-term."
   ]
  },
  {
   "cell_type": "markdown",
   "id": "eda9e8b7",
   "metadata": {},
   "source": [
    "### Performance Measure\n",
    "\n",
    " - Confusion Matrix\n",
    " - Precision/Recall (this is preferred over ROC curve when we care more about false positives)\n",
    " - We want to pay particular attention to false positives - i.e. we don't want to report that a kettle was used when it wasn't or we might miss the rare cases where the person is in trouble."
   ]
  },
  {
   "cell_type": "markdown",
   "id": "789ce4c8",
   "metadata": {},
   "source": [
    "### Assumptions\n",
    "\n",
    " - False negatives are more permissible than false positives, depending on performance we may need to consider false positives weighting\n",
    " - Time resolution will initially be 1 min (we'll need to do some preprocessing to get this)\n",
    " - Data will be further aggregated downstream to produce alerting based on e.g. number of kettle uses in last hour.\n",
    " - Initially we will use data from one home, later we will attempt to generalise the model using data from a range of homes."
   ]
  },
  {
   "cell_type": "markdown",
   "id": "d8a14276",
   "metadata": {},
   "source": [
    "## <font color=blue>2. Get the Data</font>\n",
    "\n",
    "Note the data has been pre-processed already in the Part 1 notebook and now consists of approx 8 sec time-stamped data of total energy use and kettle energy use at one dwelling.\n",
    "\n",
    "We do some more processing below before creating the test/train split as we need to preserve contiguous date times (i.e. adjacent records) and do some resampling first."
   ]
  },
  {
   "cell_type": "markdown",
   "id": "0396eef8",
   "metadata": {},
   "source": [
    "## <font color=blue>3. Discover and Visualise the Data to look for Insights</font>\n",
    "\n",
    " - This was done partly in the preprocessing in the part1 notebook, and partly below were we looked at fraction of kettles active and plotted the data, although we could have done this more formally and in more detail but the simplicity of the data didn't lend itself to this."
   ]
  },
  {
   "cell_type": "markdown",
   "id": "bbc352b4",
   "metadata": {},
   "source": [
    "## <font color=blue>4. Prepare the Data for Machine Learning - Part A </font>\n",
    "\n",
    "Part A is not ML-specific data processing but a way of presenting the data so as to expose potentially useful features from the very limited inputs we have (total energy and kettle energy). The ML specific processing is done in Part B.\n",
    "\n",
    "#### Includes the following processing steps\n",
    " - Resample\n",
    " - Return min, max, mean and max abs diff between adjacent elements at 5 min resolution\n",
    " - Feature engineering, weekday/weekend, daytime/night-time, kettle-active/inactive...\n",
    " - Remove NaN and periods with data issues\n",
    " - Splitting the data into test and train data sets (don't look at the test set again until the end!)\n",
    " \n",
    "Note the data has been pre-processed already in the Part 1 notebook and now consists of approx 8 sec time-stamped data of total energy use and kettle energy use at one dwelling"
   ]
  },
  {
   "cell_type": "code",
   "execution_count": 51,
   "id": "87411580",
   "metadata": {},
   "outputs": [],
   "source": [
    "import os \n",
    "import pandas as pd\n",
    "import matplotlib.pyplot as plt\n",
    "import numpy as np"
   ]
  },
  {
   "cell_type": "code",
   "execution_count": 52,
   "id": "c1c71c54",
   "metadata": {},
   "outputs": [],
   "source": [
    "def read_data(filename):\n",
    "    \n",
    "    df = pd.read_csv(filename, index_col=[0], parse_dates=True)\n",
    "    df.rename(columns={df.columns[0]: 'total', df.columns[1]: 'kettle'}, inplace=True)\n",
    "    return df"
   ]
  },
  {
   "cell_type": "code",
   "execution_count": 53,
   "id": "da736c16",
   "metadata": {},
   "outputs": [],
   "source": [
    "def calc_agg_stats(data):\n",
    "    return data.min(), data.max(), data.mean(), abs(data.diff()).max()"
   ]
  },
  {
   "cell_type": "code",
   "execution_count": 54,
   "id": "2912b8ec",
   "metadata": {},
   "outputs": [],
   "source": [
    "# Identify rows tagged as issue rows\n",
    "# Assume resampled row is an issue row if > threshold of entries in period marked as issue\n",
    "\n",
    "def calc_issue_bools(data, threshold=0.1):\n",
    "    return ((sum(data > 0) / max(1, len(data))) > threshold) * 1"
   ]
  },
  {
   "cell_type": "code",
   "execution_count": 55,
   "id": "c07d8975",
   "metadata": {},
   "outputs": [],
   "source": [
    "# Try two versions of kettle labeling\n",
    "\n",
    "# if kettle is active for any period tag resampled row as kettle active\n",
    "def calc_kettle_bools_any(data):\n",
    "    return (data > 0).any()*1\n",
    "\n",
    "# if kettle is active for more than threshold of entries tag resampled row as kettle active\n",
    "def calc_kettle_bools_threshold(data, threshold=0.25):\n",
    "    return ((sum(data > 0) / max(1, len(data))) > threshold) * 1"
   ]
  },
  {
   "cell_type": "code",
   "execution_count": 56,
   "id": "20c8123c",
   "metadata": {},
   "outputs": [],
   "source": [
    "def resample_df(df_in, period='300s'):\n",
    "    \n",
    "    tot_energy_resampled = df_in[[\"total\"]].resample('300s').apply(calc_agg_stats)\n",
    "    df_energy = pd.DataFrame(tot_energy_resampled.total.tolist(), \n",
    "                                columns = ['min', 'max', 'mean', 'diff'],\n",
    "                                index = tot_energy_resampled.index)\n",
    "    \n",
    "    kettle_resampled_any = df_in[[\"kettle\"]].resample('300s').apply(\n",
    "        calc_kettle_bools_any).rename(columns = {\"kettle\": \"kettle_any\"})\n",
    "    \n",
    "    kettle_resampled_threshold = df_in[[\"kettle\"]].resample('300s').apply(\n",
    "        calc_kettle_bools_threshold).rename(columns = {\"kettle\": \"kettle_thresh\"})\n",
    "    \n",
    "    issues_resampled = df_in[[\"Issues\"]].resample('300s').apply(calc_issue_bools)\n",
    "    \n",
    "    df_out = pd.concat([df_energy, kettle_resampled_any, kettle_resampled_threshold, \n",
    "                    issues_resampled], axis=1)\n",
    "    \n",
    "    return df_out"
   ]
  },
  {
   "cell_type": "code",
   "execution_count": 57,
   "id": "e7759ea5",
   "metadata": {},
   "outputs": [],
   "source": [
    "def drop_nans_and_issue_rows(df):\n",
    "    \n",
    "    df.drop(df[df.Issues > 0].index, inplace=True)\n",
    "    df.drop([\"Issues\"], axis=1, inplace=True)\n",
    "    df.drop(df[df.isnull().any(axis=1)].index, inplace=True)\n",
    "    \n",
    "    return df\n"
   ]
  },
  {
   "cell_type": "code",
   "execution_count": 58,
   "id": "034cc8ba",
   "metadata": {},
   "outputs": [],
   "source": [
    "# This does everything\n",
    "def preprocessing(filename):\n",
    "    \n",
    "    df_in = read_data(filename)\n",
    "    df = resample_df(df_in, period='300s')\n",
    "    df_out = drop_nans_and_issue_rows(df)\n",
    "    \n",
    "    return(df_out)   "
   ]
  },
  {
   "cell_type": "code",
   "execution_count": 59,
   "id": "d25f87c3",
   "metadata": {},
   "outputs": [
    {
     "data": {
      "text/html": [
       "<div>\n",
       "<style scoped>\n",
       "    .dataframe tbody tr th:only-of-type {\n",
       "        vertical-align: middle;\n",
       "    }\n",
       "\n",
       "    .dataframe tbody tr th {\n",
       "        vertical-align: top;\n",
       "    }\n",
       "\n",
       "    .dataframe thead th {\n",
       "        text-align: right;\n",
       "    }\n",
       "</style>\n",
       "<table border=\"1\" class=\"dataframe\">\n",
       "  <thead>\n",
       "    <tr style=\"text-align: right;\">\n",
       "      <th></th>\n",
       "      <th>min</th>\n",
       "      <th>max</th>\n",
       "      <th>mean</th>\n",
       "      <th>diff</th>\n",
       "      <th>kettle_any</th>\n",
       "      <th>kettle_thresh</th>\n",
       "    </tr>\n",
       "    <tr>\n",
       "      <th>Time</th>\n",
       "      <th></th>\n",
       "      <th></th>\n",
       "      <th></th>\n",
       "      <th></th>\n",
       "      <th></th>\n",
       "      <th></th>\n",
       "    </tr>\n",
       "  </thead>\n",
       "  <tbody>\n",
       "    <tr>\n",
       "      <th>2013-11-01 22:10:00</th>\n",
       "      <td>356.0</td>\n",
       "      <td>358.0</td>\n",
       "      <td>357.636364</td>\n",
       "      <td>2.0</td>\n",
       "      <td>0</td>\n",
       "      <td>0</td>\n",
       "    </tr>\n",
       "    <tr>\n",
       "      <th>2013-11-01 22:15:00</th>\n",
       "      <td>354.0</td>\n",
       "      <td>495.0</td>\n",
       "      <td>370.520000</td>\n",
       "      <td>136.0</td>\n",
       "      <td>0</td>\n",
       "      <td>0</td>\n",
       "    </tr>\n",
       "    <tr>\n",
       "      <th>2013-11-01 22:20:00</th>\n",
       "      <td>354.0</td>\n",
       "      <td>495.0</td>\n",
       "      <td>360.941176</td>\n",
       "      <td>139.0</td>\n",
       "      <td>0</td>\n",
       "      <td>0</td>\n",
       "    </tr>\n",
       "    <tr>\n",
       "      <th>2013-11-01 22:25:00</th>\n",
       "      <td>398.0</td>\n",
       "      <td>411.0</td>\n",
       "      <td>404.408163</td>\n",
       "      <td>6.0</td>\n",
       "      <td>0</td>\n",
       "      <td>0</td>\n",
       "    </tr>\n",
       "    <tr>\n",
       "      <th>2013-11-01 22:30:00</th>\n",
       "      <td>225.0</td>\n",
       "      <td>405.0</td>\n",
       "      <td>389.540000</td>\n",
       "      <td>173.0</td>\n",
       "      <td>0</td>\n",
       "      <td>0</td>\n",
       "    </tr>\n",
       "    <tr>\n",
       "      <th>...</th>\n",
       "      <td>...</td>\n",
       "      <td>...</td>\n",
       "      <td>...</td>\n",
       "      <td>...</td>\n",
       "      <td>...</td>\n",
       "      <td>...</td>\n",
       "    </tr>\n",
       "    <tr>\n",
       "      <th>2015-05-10 23:15:00</th>\n",
       "      <td>219.0</td>\n",
       "      <td>225.0</td>\n",
       "      <td>221.181818</td>\n",
       "      <td>2.0</td>\n",
       "      <td>0</td>\n",
       "      <td>0</td>\n",
       "    </tr>\n",
       "    <tr>\n",
       "      <th>2015-05-10 23:20:00</th>\n",
       "      <td>219.0</td>\n",
       "      <td>225.0</td>\n",
       "      <td>222.046512</td>\n",
       "      <td>4.0</td>\n",
       "      <td>0</td>\n",
       "      <td>0</td>\n",
       "    </tr>\n",
       "    <tr>\n",
       "      <th>2015-05-10 23:25:00</th>\n",
       "      <td>219.0</td>\n",
       "      <td>223.0</td>\n",
       "      <td>220.568182</td>\n",
       "      <td>3.0</td>\n",
       "      <td>0</td>\n",
       "      <td>0</td>\n",
       "    </tr>\n",
       "    <tr>\n",
       "      <th>2015-05-10 23:30:00</th>\n",
       "      <td>219.0</td>\n",
       "      <td>223.0</td>\n",
       "      <td>220.444444</td>\n",
       "      <td>4.0</td>\n",
       "      <td>0</td>\n",
       "      <td>0</td>\n",
       "    </tr>\n",
       "    <tr>\n",
       "      <th>2015-05-10 23:35:00</th>\n",
       "      <td>220.0</td>\n",
       "      <td>222.0</td>\n",
       "      <td>221.000000</td>\n",
       "      <td>1.0</td>\n",
       "      <td>0</td>\n",
       "      <td>0</td>\n",
       "    </tr>\n",
       "  </tbody>\n",
       "</table>\n",
       "<p>142423 rows × 6 columns</p>\n",
       "</div>"
      ],
      "text/plain": [
       "                       min    max        mean   diff  kettle_any  \\\n",
       "Time                                                               \n",
       "2013-11-01 22:10:00  356.0  358.0  357.636364    2.0           0   \n",
       "2013-11-01 22:15:00  354.0  495.0  370.520000  136.0           0   \n",
       "2013-11-01 22:20:00  354.0  495.0  360.941176  139.0           0   \n",
       "2013-11-01 22:25:00  398.0  411.0  404.408163    6.0           0   \n",
       "2013-11-01 22:30:00  225.0  405.0  389.540000  173.0           0   \n",
       "...                    ...    ...         ...    ...         ...   \n",
       "2015-05-10 23:15:00  219.0  225.0  221.181818    2.0           0   \n",
       "2015-05-10 23:20:00  219.0  225.0  222.046512    4.0           0   \n",
       "2015-05-10 23:25:00  219.0  223.0  220.568182    3.0           0   \n",
       "2015-05-10 23:30:00  219.0  223.0  220.444444    4.0           0   \n",
       "2015-05-10 23:35:00  220.0  222.0  221.000000    1.0           0   \n",
       "\n",
       "                     kettle_thresh  \n",
       "Time                                \n",
       "2013-11-01 22:10:00              0  \n",
       "2013-11-01 22:15:00              0  \n",
       "2013-11-01 22:20:00              0  \n",
       "2013-11-01 22:25:00              0  \n",
       "2013-11-01 22:30:00              0  \n",
       "...                            ...  \n",
       "2015-05-10 23:15:00              0  \n",
       "2015-05-10 23:20:00              0  \n",
       "2015-05-10 23:25:00              0  \n",
       "2015-05-10 23:30:00              0  \n",
       "2015-05-10 23:35:00              0  \n",
       "\n",
       "[142423 rows x 6 columns]"
      ]
     },
     "execution_count": 59,
     "metadata": {},
     "output_type": "execute_result"
    }
   ],
   "source": [
    "df_processed = preprocessing(filename = \"house8_processed.csv\")\n",
    "df_processed"
   ]
  },
  {
   "cell_type": "code",
   "execution_count": 60,
   "id": "27e7851a",
   "metadata": {},
   "outputs": [],
   "source": [
    "#fraction of kettles\n",
    "def get_labelled_fractions(df, field):\n",
    "    fraction = (df[field] > 0).sum() / (df[field] == 0).sum()\n",
    "    \n",
    "    print(f\"perc of {field} : {100*fraction:.2f}%\")\n",
    "    print(f\"number of {field} : {(df[field]  > 0).sum()}\")\n"
   ]
  },
  {
   "cell_type": "code",
   "execution_count": 61,
   "id": "14acab62",
   "metadata": {},
   "outputs": [
    {
     "name": "stdout",
     "output_type": "stream",
     "text": [
      "perc of kettle_any : 3.04%\n",
      "number of kettle_any : 4208\n",
      "perc of kettle_thresh : 1.55%\n",
      "number of kettle_thresh : 2169\n"
     ]
    }
   ],
   "source": [
    "get_labelled_fractions(df_processed, \"kettle_any\")\n",
    "get_labelled_fractions(df_processed, \"kettle_thresh\")"
   ]
  },
  {
   "cell_type": "markdown",
   "id": "4ba6c3fd",
   "metadata": {},
   "source": [
    "## NOTE\n",
    "\n",
    "At this point data has some useful features exposed but we still want to do some scaling, feature engineering and put the transformers into a proper pipeline"
   ]
  },
  {
   "cell_type": "code",
   "execution_count": 62,
   "id": "a7225c98",
   "metadata": {},
   "outputs": [
    {
     "data": {
      "text/plain": [
       "(0.0, 12000.0)"
      ]
     },
     "execution_count": 62,
     "metadata": {},
     "output_type": "execute_result"
    },
    {
     "data": {
      "image/png": "[encoded data removed]",
      "text/plain": [
       "<Figure size 2000x600 with 1 Axes>"
      ]
     },
     "metadata": {},
     "output_type": "display_data"
    }
   ],
   "source": [
    "# Quick look at the data\n",
    "\n",
    "plt.rcParams[\"figure.figsize\"] = (20,6)\n",
    "\n",
    "x = np.arange(len(df_processed.index))\n",
    "\n",
    "plt.scatter(x, df_processed[\"kettle_thresh\"]>0, alpha=.1, label=\"off\")\n",
    "plt.title(\"Kettle active = 1\")\n",
    "\n",
    "plt.show\n",
    "plt.xlim(0,12000)"
   ]
  },
  {
   "cell_type": "markdown",
   "id": "3a882fce",
   "metadata": {},
   "source": [
    "## Split into Train-Test sets\n",
    " - Save to .csv for convenience"
   ]
  },
  {
   "cell_type": "code",
   "execution_count": 63,
   "id": "e82cbb23",
   "metadata": {},
   "outputs": [],
   "source": [
    "from sklearn.model_selection import StratifiedShuffleSplit"
   ]
  },
  {
   "cell_type": "code",
   "execution_count": 64,
   "id": "cdbc818b",
   "metadata": {},
   "outputs": [],
   "source": [
    "# stratified split to get same dist of kettles active in train and test sets\n",
    "\n",
    "split = StratifiedShuffleSplit(n_splits=1, test_size=0.2, random_state=42)\n",
    "\n",
    "for train_index, test_index in split.split(df_processed, df_processed[\"kettle_thresh\"]):\n",
    "    strat_train_set = df_processed.iloc[train_index]\n",
    "    strat_test_set = df_processed.iloc[test_index]"
   ]
  },
  {
   "cell_type": "code",
   "execution_count": 65,
   "id": "44b7e393",
   "metadata": {},
   "outputs": [
    {
     "name": "stdout",
     "output_type": "stream",
     "text": [
      "perc of kettle_thresh : 1.55%\n",
      "number of kettle_thresh : 2169\n",
      "perc of kettle_thresh : 1.55%\n",
      "number of kettle_thresh : 1735\n",
      "perc of kettle_thresh : 1.55%\n",
      "number of kettle_thresh : 434\n"
     ]
    }
   ],
   "source": [
    "# Check stratificaiton worked\n",
    "get_labelled_fractions(df_processed, \"kettle_thresh\")\n",
    "get_labelled_fractions(strat_train_set, \"kettle_thresh\")\n",
    "get_labelled_fractions(strat_test_set, \"kettle_thresh\")"
   ]
  },
  {
   "cell_type": "code",
   "execution_count": 66,
   "id": "8d6ae782",
   "metadata": {},
   "outputs": [],
   "source": [
    "# Write the data to csv and work off these from now.\n",
    "strat_train_set.to_csv(\"train_data.csv\")\n",
    "strat_test_set.to_csv(\"test_data.csv\")"
   ]
  },
  {
   "cell_type": "markdown",
   "id": "b5480aba",
   "metadata": {},
   "source": [
    "## <font color=blue>4. Prepare the Data for Machine Learning - Part B </font>\n",
    "\n",
    "Here we deal with nity-gritty of feature engineering, transformers and pipelines to make pre-processing a single step process.\n",
    "\n",
    "We save all the processing we've done up to now as .csv files and then read them in below. Next we apply ML specific data preparation and package this all neatly in pipelines."
   ]
  },
  {
   "cell_type": "markdown",
   "id": "d38d2987",
   "metadata": {},
   "source": [
    "### Nitty-Gritty of ML Starts Here"
   ]
  },
  {
   "cell_type": "markdown",
   "id": "63e67a24",
   "metadata": {},
   "source": [
    "## Feature Engineering"
   ]
  },
  {
   "cell_type": "code",
   "execution_count": 9,
   "id": "1179993c",
   "metadata": {},
   "outputs": [],
   "source": [
    "import os \n",
    "import pandas as pd\n",
    "import matplotlib.pyplot as plt\n",
    "import numpy as np\n",
    "\n",
    "from sklearn.base import BaseEstimator, TransformerMixin\n",
    "from sklearn.pipeline import Pipeline\n",
    "from sklearn.compose import ColumnTransformer\n",
    "from sklearn.preprocessing import StandardScaler"
   ]
  },
  {
   "cell_type": "code",
   "execution_count": 10,
   "id": "c96e05a8",
   "metadata": {},
   "outputs": [],
   "source": [
    "filename = \"train_data.csv\"\n",
    "\n",
    "train_set = pd.read_csv(filename, parse_dates=[0])\n",
    "\n",
    "X = train_set.copy().drop(columns = [\"kettle_any\", \"kettle_thresh\"])\n",
    "y = train_set[\"kettle_thresh\"].reset_index(drop=True)"
   ]
  },
  {
   "cell_type": "markdown",
   "id": "82fc759d",
   "metadata": {},
   "source": [
    "### Transformation Pipelines\n",
    " - Build pipeline to add features and apply standard scaling"
   ]
  },
  {
   "cell_type": "code",
   "execution_count": 2,
   "id": "95b71639",
   "metadata": {},
   "outputs": [],
   "source": [
    "class CatFeaturesAdder(BaseEstimator, TransformerMixin):\n",
    "    \"\"\"Custom class to work with scikit-learn pipelines etc\"\"\"\n",
    "    \n",
    "    def __init__(self, add_weekday=True, add_daytime=True): \n",
    "        self.add_weekday = add_weekday\n",
    "        self.add_daytime = add_daytime\n",
    "    \n",
    "    def fit(self, X, y=None):\n",
    "        return self \n",
    "    \n",
    "    def transform(self, X, y=None):\n",
    "        \n",
    "        if self.add_weekday:\n",
    "            day_of_week = X.Time.dt.dayofweek\n",
    "            week_day = (day_of_week < 5) * 1\n",
    "            X[\"week_day\"] = week_day\n",
    "            \n",
    "        if self.add_daytime: # I may have deleted something from here by mistake\n",
    "            hour_of_day = X.Time.dt.hour\n",
    "            daytime = ((hour_of_day > 6) & (hour_of_day < 23)) * 1\n",
    "            X[\"daytime\"] = daytime\n",
    "            \n",
    "        return X.drop('Time', axis=1)\n"
   ]
  },
  {
   "cell_type": "code",
   "execution_count": 3,
   "id": "9f477dba",
   "metadata": {},
   "outputs": [],
   "source": [
    "class NumFeaturesAdder(BaseEstimator, TransformerMixin):\n",
    "    \"\"\"Custom class to work with scikit-learn pipelines etc\"\"\"\n",
    "    \n",
    "    def __init__(self, add_max_min=True): \n",
    "        self.add_max_min = add_max_min\n",
    "    \n",
    "    def fit(self, X, y=None):\n",
    "        return self \n",
    "    \n",
    "    def transform(self, X, y=None):\n",
    "            \n",
    "        if self.add_max_min:\n",
    "            max_min = pd.DataFrame(abs(X[\"max\"] - X[\"min\"]))\n",
    "            X[\"max_min\"] = max_min\n",
    "            \n",
    "        return X\n",
    "            "
   ]
  },
  {
   "cell_type": "code",
   "execution_count": 4,
   "id": "1f461674",
   "metadata": {},
   "outputs": [],
   "source": [
    "class Scaler(BaseEstimator, TransformerMixin):\n",
    "    \"\"\"Wrapper around the StandardScalar class to allow us to specify cols\n",
    "    in the pipeline\"\"\"\n",
    "    \n",
    "    def __init__(self, scale_atribs=['min', 'max', 'mean', 'diff', 'max_min']): \n",
    "        self.sc = StandardScaler()\n",
    "        self.scale_atribs = scale_atribs\n",
    "    \n",
    "    def fit(self, X, y=None):\n",
    "        return self \n",
    "    \n",
    "    def transform(self, X, y=None):\n",
    "        \n",
    "        X[self.scale_atribs] = self.sc.fit_transform(X[self.scale_atribs])\n",
    "        return X"
   ]
  },
  {
   "cell_type": "code",
   "execution_count": 5,
   "id": "541a2e0a",
   "metadata": {},
   "outputs": [],
   "source": [
    "# create transofrmation pipeline\n",
    "# standard scaler works better than max-min scaler as it tends to bunch data around zero\n",
    "\n",
    "trans_pipeline = Pipeline([('cat_feat_adder', CatFeaturesAdder(add_weekday=True,\n",
    "                                                               add_daytime=True)),\n",
    "                           ('num_feat_adder', NumFeaturesAdder(add_max_min=True)),\n",
    "                           ('scaler', Scaler(scale_atribs = ['min', 'max', 'mean', \n",
    "                                                             'diff', 'max_min']))])"
   ]
  },
  {
   "cell_type": "code",
   "execution_count": 11,
   "id": "50258261",
   "metadata": {},
   "outputs": [],
   "source": [
    "# pass a copy of the data to not overwrite original\n",
    "X1 = pd.DataFrame(data = trans_pipeline.fit_transform(X.copy()))"
   ]
  },
  {
   "cell_type": "code",
   "execution_count": 8,
   "id": "eb628b99",
   "metadata": {},
   "outputs": [
    {
     "data": {
      "text/html": [
       "<div>\n",
       "<style scoped>\n",
       "    .dataframe tbody tr th:only-of-type {\n",
       "        vertical-align: middle;\n",
       "    }\n",
       "\n",
       "    .dataframe tbody tr th {\n",
       "        vertical-align: top;\n",
       "    }\n",
       "\n",
       "    .dataframe thead th {\n",
       "        text-align: right;\n",
       "    }\n",
       "</style>\n",
       "<table border=\"1\" class=\"dataframe\">\n",
       "  <thead>\n",
       "    <tr style=\"text-align: right;\">\n",
       "      <th></th>\n",
       "      <th>min</th>\n",
       "      <th>max</th>\n",
       "      <th>mean</th>\n",
       "      <th>diff</th>\n",
       "      <th>week_day</th>\n",
       "      <th>daytime</th>\n",
       "      <th>max_min</th>\n",
       "    </tr>\n",
       "  </thead>\n",
       "  <tbody>\n",
       "    <tr>\n",
       "      <th>0</th>\n",
       "      <td>-0.329083</td>\n",
       "      <td>-0.406738</td>\n",
       "      <td>-0.393987</td>\n",
       "      <td>-0.287111</td>\n",
       "      <td>1</td>\n",
       "      <td>1</td>\n",
       "      <td>-0.295639</td>\n",
       "    </tr>\n",
       "    <tr>\n",
       "      <th>1</th>\n",
       "      <td>0.130359</td>\n",
       "      <td>-0.177255</td>\n",
       "      <td>-0.047596</td>\n",
       "      <td>-0.283511</td>\n",
       "      <td>1</td>\n",
       "      <td>0</td>\n",
       "      <td>-0.292263</td>\n",
       "    </tr>\n",
       "    <tr>\n",
       "      <th>2</th>\n",
       "      <td>-0.336152</td>\n",
       "      <td>-0.412318</td>\n",
       "      <td>-0.399654</td>\n",
       "      <td>-0.288911</td>\n",
       "      <td>1</td>\n",
       "      <td>0</td>\n",
       "      <td>-0.298170</td>\n",
       "    </tr>\n",
       "    <tr>\n",
       "      <th>3</th>\n",
       "      <td>0.210938</td>\n",
       "      <td>-0.133311</td>\n",
       "      <td>0.014932</td>\n",
       "      <td>-0.282611</td>\n",
       "      <td>1</td>\n",
       "      <td>1</td>\n",
       "      <td>-0.287200</td>\n",
       "    </tr>\n",
       "    <tr>\n",
       "      <th>4</th>\n",
       "      <td>-0.187716</td>\n",
       "      <td>-0.336986</td>\n",
       "      <td>-0.288160</td>\n",
       "      <td>-0.286211</td>\n",
       "      <td>1</td>\n",
       "      <td>0</td>\n",
       "      <td>-0.295639</td>\n",
       "    </tr>\n",
       "  </tbody>\n",
       "</table>\n",
       "</div>"
      ],
      "text/plain": [
       "        min       max      mean      diff  week_day  daytime   max_min\n",
       "0 -0.329083 -0.406738 -0.393987 -0.287111         1        1 -0.295639\n",
       "1  0.130359 -0.177255 -0.047596 -0.283511         1        0 -0.292263\n",
       "2 -0.336152 -0.412318 -0.399654 -0.288911         1        0 -0.298170\n",
       "3  0.210938 -0.133311  0.014932 -0.282611         1        1 -0.287200\n",
       "4 -0.187716 -0.336986 -0.288160 -0.286211         1        0 -0.295639"
      ]
     },
     "execution_count": 8,
     "metadata": {},
     "output_type": "execute_result"
    }
   ],
   "source": [
    "X1.head()"
   ]
  },
  {
   "cell_type": "markdown",
   "id": "94820735",
   "metadata": {},
   "source": [
    "## <font color=blue>5. Select and Train a Model</font>\n",
    "\n",
    "As it's a small data set we can throw a number of different models at it and just see how they perform. We use cross-validation to train and test models and get performance metrics"
   ]
  },
  {
   "cell_type": "code",
   "execution_count": 6,
   "id": "9597f0b8",
   "metadata": {},
   "outputs": [],
   "source": [
    "from sklearn.model_selection import cross_val_score\n",
    "\n",
    "from sklearn.tree import DecisionTreeClassifier\n",
    "from sklearn.svm import SVC\n",
    "from sklearn.ensemble import RandomForestClassifier\n",
    "from sklearn.linear_model import LogisticRegression\n",
    "from sklearn.linear_model import SGDClassifier"
   ]
  },
  {
   "cell_type": "code",
   "execution_count": 61,
   "id": "5fd0d169",
   "metadata": {},
   "outputs": [],
   "source": [
    "cols = ['min', 'max', 'mean', 'diff', 'max_min', 'week_day', 'daytime']"
   ]
  },
  {
   "cell_type": "markdown",
   "id": "4c92d52f",
   "metadata": {},
   "source": [
    "### Decision Tree"
   ]
  },
  {
   "cell_type": "code",
   "execution_count": 15,
   "id": "951430a5",
   "metadata": {},
   "outputs": [],
   "source": [
    "dt_clf = DecisionTreeClassifier()\n",
    "dt_clf.fit(X1[cols], y)\n",
    "\n",
    "dt_precision = cross_val_score(dt_clf, X1[cols], y, cv=5, scoring='precision')\n",
    "dt_recall = cross_val_score(dt_clf, X1[cols], y, cv=5, scoring='recall')"
   ]
  },
  {
   "cell_type": "code",
   "execution_count": 16,
   "id": "bb9e0988",
   "metadata": {},
   "outputs": [
    {
     "name": "stdout",
     "output_type": "stream",
     "text": [
      "DT Precision: 0.807\n",
      "DT Recall: 0.803\n"
     ]
    }
   ],
   "source": [
    "print(f\"DT Precision: {dt_precision.mean():.3f}\")\n",
    "print(f\"DT Recall: {dt_recall.mean():.3f}\")"
   ]
  },
  {
   "cell_type": "markdown",
   "id": "f1e42e64",
   "metadata": {},
   "source": [
    "### Support Vector Machine"
   ]
  },
  {
   "cell_type": "code",
   "execution_count": 17,
   "id": "5be7df26",
   "metadata": {},
   "outputs": [],
   "source": [
    "svm_clf = SVC()\n",
    "svm_clf.fit(X1[cols], y)\n",
    "\n",
    "svm_precision = cross_val_score(svm_clf, X1[cols], y, cv=5, scoring='precision')\n",
    "svm_recall = cross_val_score(svm_clf, X1[cols], y, cv=5, scoring='recall')"
   ]
  },
  {
   "cell_type": "code",
   "execution_count": 18,
   "id": "a9ac2e94",
   "metadata": {},
   "outputs": [
    {
     "name": "stdout",
     "output_type": "stream",
     "text": [
      "SVM Precision: 0.844\n",
      "SVM Recall: 0.862\n"
     ]
    }
   ],
   "source": [
    "print(f\"SVM Precision: {svm_precision.mean():.3f}\")\n",
    "print(f\"SVM Recall: {svm_recall.mean():.3f}\")"
   ]
  },
  {
   "cell_type": "code",
   "execution_count": 20,
   "id": "6e147468",
   "metadata": {},
   "outputs": [],
   "source": [
    "# SVM slightly better but very slow, at least the SVC implementation, faster options available"
   ]
  },
  {
   "cell_type": "markdown",
   "id": "35abdbd7",
   "metadata": {},
   "source": [
    "### Random Forest"
   ]
  },
  {
   "cell_type": "code",
   "execution_count": 93,
   "id": "de91dcd4",
   "metadata": {},
   "outputs": [],
   "source": [
    "rf_clf = RandomForestClassifier()\n",
    "rf_clf.fit(X1[cols], y)\n",
    "\n",
    "rf_precision = cross_val_score(rf_clf, X1[cols], y, cv=5, scoring='precision')\n",
    "rf_recall = cross_val_score(rf_clf, X1[cols], y, cv=5, scoring='recall')"
   ]
  },
  {
   "cell_type": "code",
   "execution_count": 94,
   "id": "91d0eae3",
   "metadata": {},
   "outputs": [
    {
     "name": "stdout",
     "output_type": "stream",
     "text": [
      "rf Precision: 0.846\n",
      "rf Recall: 0.876\n"
     ]
    }
   ],
   "source": [
    "print(f\"rf Precision: {rf_precision.mean():.3f}\")\n",
    "print(f\"rf Recall: {rf_recall.mean():.3f}\")"
   ]
  },
  {
   "cell_type": "markdown",
   "id": "8008c671",
   "metadata": {},
   "source": [
    "### Logistic Regression"
   ]
  },
  {
   "cell_type": "code",
   "execution_count": 23,
   "id": "0e21dc40",
   "metadata": {},
   "outputs": [],
   "source": [
    "lr_clf = LogisticRegression()\n",
    "lr_clf.fit(X1[cols], y)\n",
    "\n",
    "lr_precision = cross_val_score(lr_clf, X1[cols], y, cv=5, scoring='precision')\n",
    "lr_recall = cross_val_score(lr_clf, X1[cols], y, cv=5, scoring='recall')\n"
   ]
  },
  {
   "cell_type": "code",
   "execution_count": 24,
   "id": "008bada6",
   "metadata": {},
   "outputs": [
    {
     "name": "stdout",
     "output_type": "stream",
     "text": [
      "lr Precision: 0.056\n",
      "lr Recall: 0.012\n"
     ]
    }
   ],
   "source": [
    "print(f\"lr Precision: {lr_precision.mean():.3f}\")\n",
    "print(f\"lr Recall: {lr_recall.mean():.3f}\")"
   ]
  },
  {
   "cell_type": "code",
   "execution_count": 25,
   "id": "388c62b8",
   "metadata": {},
   "outputs": [],
   "source": [
    "# wow, not sure why that is so bad!"
   ]
  },
  {
   "cell_type": "markdown",
   "id": "3b0bba84",
   "metadata": {},
   "source": [
    "### Stochastic Grad Descent Classifier"
   ]
  },
  {
   "cell_type": "code",
   "execution_count": 28,
   "id": "77ccc964",
   "metadata": {
    "scrolled": true
   },
   "outputs": [],
   "source": [
    "# sgd_clf = SGDClassifier()\n",
    "# sgd_clf.fit(X1[cols], y)\n",
    "\n",
    "# sgd_precision = cross_val_score(sgd_clf, X1[cols], y, cv=5, scoring='precision')\n",
    "# sgd_recall = cross_val_score(sgd_clf, X1[cols], y, cv=5, scoring='recall')"
   ]
  },
  {
   "cell_type": "code",
   "execution_count": 27,
   "id": "f3a9fd95",
   "metadata": {},
   "outputs": [
    {
     "name": "stdout",
     "output_type": "stream",
     "text": [
      "sgd Precision: 0.000\n",
      "sgd Recall: 0.000\n"
     ]
    }
   ],
   "source": [
    "print(f\"sgd Precision: {sgd_precision.mean():.3f}\")\n",
    "print(f\"sgd Recall: {sgd_recall.mean():.3f}\")"
   ]
  },
  {
   "cell_type": "markdown",
   "id": "d2813a27",
   "metadata": {},
   "source": [
    "## Random Forest - looks most promising"
   ]
  },
  {
   "cell_type": "markdown",
   "id": "1ae28c4f",
   "metadata": {},
   "source": [
    "## Confusion Matrix"
   ]
  },
  {
   "cell_type": "code",
   "execution_count": 29,
   "id": "18677750",
   "metadata": {},
   "outputs": [],
   "source": [
    "from sklearn.metrics import confusion_matrix\n",
    "from sklearn.metrics import ConfusionMatrixDisplay\n",
    "from sklearn.model_selection import cross_val_predict"
   ]
  },
  {
   "cell_type": "code",
   "execution_count": 45,
   "id": "87efb4a9",
   "metadata": {},
   "outputs": [],
   "source": [
    "def confusion_matrix_from_classifier(X, y, classifier, threshold=None, method=None):\n",
    "    \"\"\"Call a cross_val predict method to get predictions then compare with labels\n",
    "    Increase threshold for methods returning prob to reduce false positives\"\"\"\n",
    "    \n",
    "    if method:  \n",
    "        y_train_pred_prob = cross_val_predict(classifier, X, y, cv=3, method=method)\n",
    "    else:\n",
    "        y_train_pred_prob = cross_val_predict(rf_clf, X1, y0, cv=3)\n",
    "    \n",
    "    if threshold: \n",
    "        y_train_pred = (y_train_pred_prob [:,1] >= threshold).astype('int')\n",
    "    else:\n",
    "        y_train_pred = y_train_pred_prob\n",
    "        \n",
    "    confusion = confusion_matrix(y, y_train_pred)\n",
    "    disp = ConfusionMatrixDisplay(confusion_matrix=confusion)\n",
    "\n",
    "    disp.plot()\n",
    "    plt.show()\n"
   ]
  },
  {
   "cell_type": "code",
   "execution_count": 95,
   "id": "7ed2f3c6",
   "metadata": {},
   "outputs": [
    {
     "data": {
      "image/png": "[encoded data removed]",
      "text/plain": [
       "<Figure size 640x480 with 2 Axes>"
      ]
     },
     "metadata": {},
     "output_type": "display_data"
    }
   ],
   "source": [
    "confusion_matrix_from_classifier(X1, y, classifier=rf_clf, \n",
    "                                  threshold=0.5, method='predict_proba')"
   ]
  },
  {
   "cell_type": "markdown",
   "id": "887c5281",
   "metadata": {},
   "source": [
    "## <font color=blue>6. Fine Tune Your Model</font>\n",
    "\n",
    "Optimise hyperparams, here we just use a small grid search with limited success, there's lots more we could do though.\n",
    "\n",
    "We also build an Ensemble model of two best approaches, SCM and Random Forest, again limited success but it demonstrates the concept."
   ]
  },
  {
   "cell_type": "markdown",
   "id": "b98b4128",
   "metadata": {},
   "source": [
    "## Grid search some Random Forest hyper params\n",
    " - score using precision - i.e. we don't want to label any non-active kettles as active"
   ]
  },
  {
   "cell_type": "code",
   "execution_count": 80,
   "id": "003d384d",
   "metadata": {},
   "outputs": [
    {
     "data": {
      "text/html": [
       "<style>#sk-container-id-7 {color: black;background-color: white;}#sk-container-id-7 pre{padding: 0;}#sk-container-id-7 div.sk-toggleable {background-color: white;}#sk-container-id-7 label.sk-toggleable__label {cursor: pointer;display: block;width: 100%;margin-bottom: 0;padding: 0.3em;box-sizing: border-box;text-align: center;}#sk-container-id-7 label.sk-toggleable__label-arrow:before {content: \"▸\";float: left;margin-right: 0.25em;color: #696969;}#sk-container-id-7 label.sk-toggleable__label-arrow:hover:before {color: black;}#sk-container-id-7 div.sk-estimator:hover label.sk-toggleable__label-arrow:before {color: black;}#sk-container-id-7 div.sk-toggleable__content {max-height: 0;max-width: 0;overflow: hidden;text-align: left;background-color: #f0f8ff;}#sk-container-id-7 div.sk-toggleable__content pre {margin: 0.2em;color: black;border-radius: 0.25em;background-color: #f0f8ff;}#sk-container-id-7 input.sk-toggleable__control:checked~div.sk-toggleable__content {max-height: 200px;max-width: 100%;overflow: auto;}#sk-container-id-7 input.sk-toggleable__control:checked~label.sk-toggleable__label-arrow:before {content: \"▾\";}#sk-container-id-7 div.sk-estimator input.sk-toggleable__control:checked~label.sk-toggleable__label {background-color: #d4ebff;}#sk-container-id-7 div.sk-label input.sk-toggleable__control:checked~label.sk-toggleable__label {background-color: #d4ebff;}#sk-container-id-7 input.sk-hidden--visually {border: 0;clip: rect(1px 1px 1px 1px);clip: rect(1px, 1px, 1px, 1px);height: 1px;margin: -1px;overflow: hidden;padding: 0;position: absolute;width: 1px;}#sk-container-id-7 div.sk-estimator {font-family: monospace;background-color: #f0f8ff;border: 1px dotted black;border-radius: 0.25em;box-sizing: border-box;margin-bottom: 0.5em;}#sk-container-id-7 div.sk-estimator:hover {background-color: #d4ebff;}#sk-container-id-7 div.sk-parallel-item::after {content: \"\";width: 100%;border-bottom: 1px solid gray;flex-grow: 1;}#sk-container-id-7 div.sk-label:hover label.sk-toggleable__label {background-color: #d4ebff;}#sk-container-id-7 div.sk-serial::before {content: \"\";position: absolute;border-left: 1px solid gray;box-sizing: border-box;top: 0;bottom: 0;left: 50%;z-index: 0;}#sk-container-id-7 div.sk-serial {display: flex;flex-direction: column;align-items: center;background-color: white;padding-right: 0.2em;padding-left: 0.2em;position: relative;}#sk-container-id-7 div.sk-item {position: relative;z-index: 1;}#sk-container-id-7 div.sk-parallel {display: flex;align-items: stretch;justify-content: center;background-color: white;position: relative;}#sk-container-id-7 div.sk-item::before, #sk-container-id-7 div.sk-parallel-item::before {content: \"\";position: absolute;border-left: 1px solid gray;box-sizing: border-box;top: 0;bottom: 0;left: 50%;z-index: -1;}#sk-container-id-7 div.sk-parallel-item {display: flex;flex-direction: column;z-index: 1;position: relative;background-color: white;}#sk-container-id-7 div.sk-parallel-item:first-child::after {align-self: flex-end;width: 50%;}#sk-container-id-7 div.sk-parallel-item:last-child::after {align-self: flex-start;width: 50%;}#sk-container-id-7 div.sk-parallel-item:only-child::after {width: 0;}#sk-container-id-7 div.sk-dashed-wrapped {border: 1px dashed gray;margin: 0 0.4em 0.5em 0.4em;box-sizing: border-box;padding-bottom: 0.4em;background-color: white;}#sk-container-id-7 div.sk-label label {font-family: monospace;font-weight: bold;display: inline-block;line-height: 1.2em;}#sk-container-id-7 div.sk-label-container {text-align: center;}#sk-container-id-7 div.sk-container {/* jupyter's `normalize.less` sets `[hidden] { display: none; }` but bootstrap.min.css set `[hidden] { display: none !important; }` so we also need the `!important` here to be able to override the default hidden behavior on the sphinx rendered scikit-learn.org. See: https://github.com/scikit-learn/scikit-learn/issues/21755 */display: inline-block !important;position: relative;}#sk-container-id-7 div.sk-text-repr-fallback {display: none;}</style><div id=\"sk-container-id-7\" class=\"sk-top-container\"><div class=\"sk-text-repr-fallback\"><pre>GridSearchCV(cv=3, estimator=RandomForestClassifier(),\n",
       "             param_grid=[{&#x27;max_features&#x27;: [2, 4, 7],\n",
       "                          &#x27;n_estimators&#x27;: [5, 10, 50]}],\n",
       "             return_train_score=True, scoring=&#x27;precision&#x27;)</pre><b>In a Jupyter environment, please rerun this cell to show the HTML representation or trust the notebook. <br />On GitHub, the HTML representation is unable to render, please try loading this page with nbviewer.org.</b></div><div class=\"sk-container\" hidden><div class=\"sk-item sk-dashed-wrapped\"><div class=\"sk-label-container\"><div class=\"sk-label sk-toggleable\"><input class=\"sk-toggleable__control sk-hidden--visually\" id=\"sk-estimator-id-19\" type=\"checkbox\" ><label for=\"sk-estimator-id-19\" class=\"sk-toggleable__label sk-toggleable__label-arrow\">GridSearchCV</label><div class=\"sk-toggleable__content\"><pre>GridSearchCV(cv=3, estimator=RandomForestClassifier(),\n",
       "             param_grid=[{&#x27;max_features&#x27;: [2, 4, 7],\n",
       "                          &#x27;n_estimators&#x27;: [5, 10, 50]}],\n",
       "             return_train_score=True, scoring=&#x27;precision&#x27;)</pre></div></div></div><div class=\"sk-parallel\"><div class=\"sk-parallel-item\"><div class=\"sk-item\"><div class=\"sk-label-container\"><div class=\"sk-label sk-toggleable\"><input class=\"sk-toggleable__control sk-hidden--visually\" id=\"sk-estimator-id-20\" type=\"checkbox\" ><label for=\"sk-estimator-id-20\" class=\"sk-toggleable__label sk-toggleable__label-arrow\">estimator: RandomForestClassifier</label><div class=\"sk-toggleable__content\"><pre>RandomForestClassifier()</pre></div></div></div><div class=\"sk-serial\"><div class=\"sk-item\"><div class=\"sk-estimator sk-toggleable\"><input class=\"sk-toggleable__control sk-hidden--visually\" id=\"sk-estimator-id-21\" type=\"checkbox\" ><label for=\"sk-estimator-id-21\" class=\"sk-toggleable__label sk-toggleable__label-arrow\">RandomForestClassifier</label><div class=\"sk-toggleable__content\"><pre>RandomForestClassifier()</pre></div></div></div></div></div></div></div></div></div></div>"
      ],
      "text/plain": [
       "GridSearchCV(cv=3, estimator=RandomForestClassifier(),\n",
       "             param_grid=[{'max_features': [2, 4, 7],\n",
       "                          'n_estimators': [5, 10, 50]}],\n",
       "             return_train_score=True, scoring='precision')"
      ]
     },
     "execution_count": 80,
     "metadata": {},
     "output_type": "execute_result"
    }
   ],
   "source": [
    "from sklearn.model_selection import GridSearchCV\n",
    "\n",
    "param_grid = [\n",
    "    {'n_estimators': [5, 10, 50], 'max_features': [2, 4, 7]}]\n",
    "\n",
    "rf = RandomForestClassifier()\n",
    "grid_search = GridSearchCV(rf, param_grid, cv=3, scoring='precision', \n",
    "                           return_train_score=True, refit=True)\n",
    "\n",
    "grid_search.fit(X1, y)"
   ]
  },
  {
   "cell_type": "code",
   "execution_count": 81,
   "id": "fbc38641",
   "metadata": {},
   "outputs": [
    {
     "data": {
      "text/plain": [
       "{'max_features': 2, 'n_estimators': 10}"
      ]
     },
     "execution_count": 81,
     "metadata": {},
     "output_type": "execute_result"
    }
   ],
   "source": [
    "grid_search.best_params_"
   ]
  },
  {
   "cell_type": "markdown",
   "id": "5e5ffab6",
   "metadata": {},
   "source": [
    "### Refine"
   ]
  },
  {
   "cell_type": "code",
   "execution_count": 82,
   "id": "85253959",
   "metadata": {},
   "outputs": [
    {
     "data": {
      "text/html": [
       "<style>#sk-container-id-8 {color: black;background-color: white;}#sk-container-id-8 pre{padding: 0;}#sk-container-id-8 div.sk-toggleable {background-color: white;}#sk-container-id-8 label.sk-toggleable__label {cursor: pointer;display: block;width: 100%;margin-bottom: 0;padding: 0.3em;box-sizing: border-box;text-align: center;}#sk-container-id-8 label.sk-toggleable__label-arrow:before {content: \"▸\";float: left;margin-right: 0.25em;color: #696969;}#sk-container-id-8 label.sk-toggleable__label-arrow:hover:before {color: black;}#sk-container-id-8 div.sk-estimator:hover label.sk-toggleable__label-arrow:before {color: black;}#sk-container-id-8 div.sk-toggleable__content {max-height: 0;max-width: 0;overflow: hidden;text-align: left;background-color: #f0f8ff;}#sk-container-id-8 div.sk-toggleable__content pre {margin: 0.2em;color: black;border-radius: 0.25em;background-color: #f0f8ff;}#sk-container-id-8 input.sk-toggleable__control:checked~div.sk-toggleable__content {max-height: 200px;max-width: 100%;overflow: auto;}#sk-container-id-8 input.sk-toggleable__control:checked~label.sk-toggleable__label-arrow:before {content: \"▾\";}#sk-container-id-8 div.sk-estimator input.sk-toggleable__control:checked~label.sk-toggleable__label {background-color: #d4ebff;}#sk-container-id-8 div.sk-label input.sk-toggleable__control:checked~label.sk-toggleable__label {background-color: #d4ebff;}#sk-container-id-8 input.sk-hidden--visually {border: 0;clip: rect(1px 1px 1px 1px);clip: rect(1px, 1px, 1px, 1px);height: 1px;margin: -1px;overflow: hidden;padding: 0;position: absolute;width: 1px;}#sk-container-id-8 div.sk-estimator {font-family: monospace;background-color: #f0f8ff;border: 1px dotted black;border-radius: 0.25em;box-sizing: border-box;margin-bottom: 0.5em;}#sk-container-id-8 div.sk-estimator:hover {background-color: #d4ebff;}#sk-container-id-8 div.sk-parallel-item::after {content: \"\";width: 100%;border-bottom: 1px solid gray;flex-grow: 1;}#sk-container-id-8 div.sk-label:hover label.sk-toggleable__label {background-color: #d4ebff;}#sk-container-id-8 div.sk-serial::before {content: \"\";position: absolute;border-left: 1px solid gray;box-sizing: border-box;top: 0;bottom: 0;left: 50%;z-index: 0;}#sk-container-id-8 div.sk-serial {display: flex;flex-direction: column;align-items: center;background-color: white;padding-right: 0.2em;padding-left: 0.2em;position: relative;}#sk-container-id-8 div.sk-item {position: relative;z-index: 1;}#sk-container-id-8 div.sk-parallel {display: flex;align-items: stretch;justify-content: center;background-color: white;position: relative;}#sk-container-id-8 div.sk-item::before, #sk-container-id-8 div.sk-parallel-item::before {content: \"\";position: absolute;border-left: 1px solid gray;box-sizing: border-box;top: 0;bottom: 0;left: 50%;z-index: -1;}#sk-container-id-8 div.sk-parallel-item {display: flex;flex-direction: column;z-index: 1;position: relative;background-color: white;}#sk-container-id-8 div.sk-parallel-item:first-child::after {align-self: flex-end;width: 50%;}#sk-container-id-8 div.sk-parallel-item:last-child::after {align-self: flex-start;width: 50%;}#sk-container-id-8 div.sk-parallel-item:only-child::after {width: 0;}#sk-container-id-8 div.sk-dashed-wrapped {border: 1px dashed gray;margin: 0 0.4em 0.5em 0.4em;box-sizing: border-box;padding-bottom: 0.4em;background-color: white;}#sk-container-id-8 div.sk-label label {font-family: monospace;font-weight: bold;display: inline-block;line-height: 1.2em;}#sk-container-id-8 div.sk-label-container {text-align: center;}#sk-container-id-8 div.sk-container {/* jupyter's `normalize.less` sets `[hidden] { display: none; }` but bootstrap.min.css set `[hidden] { display: none !important; }` so we also need the `!important` here to be able to override the default hidden behavior on the sphinx rendered scikit-learn.org. See: https://github.com/scikit-learn/scikit-learn/issues/21755 */display: inline-block !important;position: relative;}#sk-container-id-8 div.sk-text-repr-fallback {display: none;}</style><div id=\"sk-container-id-8\" class=\"sk-top-container\"><div class=\"sk-text-repr-fallback\"><pre>GridSearchCV(cv=3, estimator=RandomForestClassifier(),\n",
       "             param_grid=[{&#x27;max_features&#x27;: [1, 2, 3],\n",
       "                          &#x27;n_estimators&#x27;: [8, 10, 12]}],\n",
       "             return_train_score=True, scoring=&#x27;precision&#x27;)</pre><b>In a Jupyter environment, please rerun this cell to show the HTML representation or trust the notebook. <br />On GitHub, the HTML representation is unable to render, please try loading this page with nbviewer.org.</b></div><div class=\"sk-container\" hidden><div class=\"sk-item sk-dashed-wrapped\"><div class=\"sk-label-container\"><div class=\"sk-label sk-toggleable\"><input class=\"sk-toggleable__control sk-hidden--visually\" id=\"sk-estimator-id-22\" type=\"checkbox\" ><label for=\"sk-estimator-id-22\" class=\"sk-toggleable__label sk-toggleable__label-arrow\">GridSearchCV</label><div class=\"sk-toggleable__content\"><pre>GridSearchCV(cv=3, estimator=RandomForestClassifier(),\n",
       "             param_grid=[{&#x27;max_features&#x27;: [1, 2, 3],\n",
       "                          &#x27;n_estimators&#x27;: [8, 10, 12]}],\n",
       "             return_train_score=True, scoring=&#x27;precision&#x27;)</pre></div></div></div><div class=\"sk-parallel\"><div class=\"sk-parallel-item\"><div class=\"sk-item\"><div class=\"sk-label-container\"><div class=\"sk-label sk-toggleable\"><input class=\"sk-toggleable__control sk-hidden--visually\" id=\"sk-estimator-id-23\" type=\"checkbox\" ><label for=\"sk-estimator-id-23\" class=\"sk-toggleable__label sk-toggleable__label-arrow\">estimator: RandomForestClassifier</label><div class=\"sk-toggleable__content\"><pre>RandomForestClassifier()</pre></div></div></div><div class=\"sk-serial\"><div class=\"sk-item\"><div class=\"sk-estimator sk-toggleable\"><input class=\"sk-toggleable__control sk-hidden--visually\" id=\"sk-estimator-id-24\" type=\"checkbox\" ><label for=\"sk-estimator-id-24\" class=\"sk-toggleable__label sk-toggleable__label-arrow\">RandomForestClassifier</label><div class=\"sk-toggleable__content\"><pre>RandomForestClassifier()</pre></div></div></div></div></div></div></div></div></div></div>"
      ],
      "text/plain": [
       "GridSearchCV(cv=3, estimator=RandomForestClassifier(),\n",
       "             param_grid=[{'max_features': [1, 2, 3],\n",
       "                          'n_estimators': [8, 10, 12]}],\n",
       "             return_train_score=True, scoring='precision')"
      ]
     },
     "execution_count": 82,
     "metadata": {},
     "output_type": "execute_result"
    }
   ],
   "source": [
    "param_grid = [\n",
    "    {'n_estimators': [8, 10, 12], 'max_features': [1, 2, 3]},\n",
    "    ]\n",
    "\n",
    "rf = RandomForestClassifier()\n",
    "grid_search = GridSearchCV(rf, param_grid, cv=3, scoring='precision', return_train_score=True)\n",
    "grid_search.fit(X1, y)"
   ]
  },
  {
   "cell_type": "code",
   "execution_count": 83,
   "id": "0ad170eb",
   "metadata": {},
   "outputs": [
    {
     "data": {
      "text/plain": [
       "{'max_features': 3, 'n_estimators': 8}"
      ]
     },
     "execution_count": 83,
     "metadata": {},
     "output_type": "execute_result"
    }
   ],
   "source": [
    "grid_search.best_params_"
   ]
  },
  {
   "cell_type": "markdown",
   "id": "c840fc68",
   "metadata": {},
   "source": [
    "### See relative feature importance\n",
    "\n",
    " - we can prob drop min, week_day and daytime"
   ]
  },
  {
   "cell_type": "code",
   "execution_count": 84,
   "id": "c4747dec",
   "metadata": {},
   "outputs": [
    {
     "data": {
      "text/plain": [
       "[(0.32527018470053304, 'diff'),\n",
       " (0.25730990100702117, 'mean'),\n",
       " (0.18116462834224636, 'max_min'),\n",
       " (0.1730401436925314, 'max'),\n",
       " (0.055569035311146556, 'min'),\n",
       " (0.005612828720996257, 'week_day'),\n",
       " (0.002033278225525335, 'daytime')]"
      ]
     },
     "execution_count": 84,
     "metadata": {},
     "output_type": "execute_result"
    }
   ],
   "source": [
    "feature_importances = grid_search.best_estimator_.feature_importances_\n",
    "sorted(zip(feature_importances, list(X1)), reverse=True)"
   ]
  },
  {
   "cell_type": "markdown",
   "id": "129d070f",
   "metadata": {},
   "source": [
    "## Use best params so far and drop weakest features"
   ]
  },
  {
   "cell_type": "code",
   "execution_count": 99,
   "id": "510e6679",
   "metadata": {},
   "outputs": [],
   "source": [
    "#cols = ['diff', 'mean', 'max_min', 'max']\n",
    "cols = list(X1)\n",
    "\n",
    "rf_clf = RandomForestClassifier(random_state=42, max_features=3, n_estimators=8)\n",
    "\n",
    "rf_precision = cross_val_score(rf_clf, X1[cols], y, cv=5, scoring='precision')\n",
    "rf_recall = cross_val_score(rf_clf, X1[cols], y, cv=5, scoring='recall')"
   ]
  },
  {
   "cell_type": "code",
   "execution_count": null,
   "id": "f3c65e89",
   "metadata": {},
   "outputs": [],
   "source": []
  },
  {
   "cell_type": "code",
   "execution_count": 100,
   "id": "0233ff71",
   "metadata": {},
   "outputs": [
    {
     "name": "stdout",
     "output_type": "stream",
     "text": [
      "rf Precision: 0.857\n",
      "rf Recall: 0.831\n"
     ]
    }
   ],
   "source": [
    "print(f\"rf Precision: {rf_precision.mean():.3f}\")\n",
    "print(f\"rf Recall: {rf_recall.mean():.3f}\")"
   ]
  },
  {
   "cell_type": "code",
   "execution_count": 101,
   "id": "5a469ea3",
   "metadata": {},
   "outputs": [
    {
     "data": {
      "image/png": "[encoded data removed]",
      "text/plain": [
       "<Figure size 640x480 with 2 Axes>"
      ]
     },
     "metadata": {},
     "output_type": "display_data"
    }
   ],
   "source": [
    "# Weirdly this is slightly worse than default params!?\n",
    "\n",
    "confusion_matrix_from_classifier(X1, y, classifier=rf_clf, \n",
    "                                  threshold=0.5, method='predict_proba')"
   ]
  },
  {
   "cell_type": "markdown",
   "id": "bb253f3c",
   "metadata": {},
   "source": [
    "## Ensemble: Combine SVM and Random Forest\n",
    "\n",
    " - Only classify kettle as active if both models agree it's active\n"
   ]
  },
  {
   "cell_type": "code",
   "execution_count": 110,
   "id": "9296fcd5",
   "metadata": {},
   "outputs": [],
   "source": [
    "# Instantiate classifier and get prediciton probs\n",
    "rf_clf = RandomForestClassifier(random_state=42, max_features=3, n_estimators=8)\n",
    "y_train_pred_prob_RF = cross_val_predict(rf_clf, X1, y, cv=3, method='predict_proba')\n",
    "\n",
    "# Convert to binary\n",
    "threshold = 0.5\n",
    "y_train_pred_RF = (y_train_pred_prob_RF [:,1] >= threshold).astype('int')"
   ]
  },
  {
   "cell_type": "code",
   "execution_count": 111,
   "id": "16d56100",
   "metadata": {},
   "outputs": [],
   "source": [
    "svm_clf = SVC()\n",
    "y_train_pred_SVM = cross_val_predict(svm_clf, X1, y, cv=3)\n",
    "#these are 1 or zero"
   ]
  },
  {
   "cell_type": "code",
   "execution_count": 138,
   "id": "2ecc5a2c",
   "metadata": {},
   "outputs": [],
   "source": [
    "y_pred_ens = ((y_train_pred_RF == 1) & (y_train_pred_SVM == 1)).astype('int')"
   ]
  },
  {
   "cell_type": "code",
   "execution_count": 139,
   "id": "77fe7776",
   "metadata": {},
   "outputs": [
    {
     "data": {
      "text/plain": [
       "1966"
      ]
     },
     "execution_count": 139,
     "metadata": {},
     "output_type": "execute_result"
    }
   ],
   "source": [
    "y_train_pred_RF.sum()"
   ]
  },
  {
   "cell_type": "code",
   "execution_count": 140,
   "id": "11910e8d",
   "metadata": {},
   "outputs": [
    {
     "data": {
      "text/plain": [
       "1895"
      ]
     },
     "execution_count": 140,
     "metadata": {},
     "output_type": "execute_result"
    }
   ],
   "source": [
    "y_train_pred_SVM.sum()"
   ]
  },
  {
   "cell_type": "code",
   "execution_count": 141,
   "id": "8cf90b5c",
   "metadata": {},
   "outputs": [
    {
     "data": {
      "text/plain": [
       "1743"
      ]
     },
     "execution_count": 141,
     "metadata": {},
     "output_type": "execute_result"
    }
   ],
   "source": [
    "y_pred_ens.sum()"
   ]
  },
  {
   "cell_type": "code",
   "execution_count": 142,
   "id": "06068f97",
   "metadata": {},
   "outputs": [
    {
     "data": {
      "image/png": "[encoded data removed]",
      "text/plain": [
       "<Figure size 640x480 with 2 Axes>"
      ]
     },
     "metadata": {},
     "output_type": "display_data"
    }
   ],
   "source": [
    "confusion = confusion_matrix(y, y_pred_ens)\n",
    "disp = ConfusionMatrixDisplay(confusion_matrix=confusion)\n",
    "\n",
    "disp.plot()\n",
    "plt.show()"
   ]
  },
  {
   "cell_type": "markdown",
   "id": "45efc37d",
   "metadata": {},
   "source": [
    "#### Ensemble reduces false positives quite a lot (by 132 good news) at expense of increasing false negatives (101)."
   ]
  },
  {
   "cell_type": "code",
   "execution_count": 86,
   "id": "e3afbe47",
   "metadata": {},
   "outputs": [],
   "source": [
    "def get_true_false_metrics(pred, actual):\n",
    "    \n",
    "    TP = len(pred[(pred == 1) & (actual == 1)])\n",
    "    TN = len(pred[(pred == 0) & (actual == 0)])\n",
    "    FP = len(pred[(pred == 1) & (actual == 0)])\n",
    "    FN = len(pred[(pred == 0) & (actual == 1)])\n",
    "\n",
    "    print(TP, TN, FP, FN)\n",
    "    \n",
    "    return TP, TN, FP, FN"
   ]
  },
  {
   "cell_type": "code",
   "execution_count": 1,
   "id": "8c5d0801",
   "metadata": {},
   "outputs": [],
   "source": [
    "TP, TN, FP, FN = get_true_false_metrics(pred=y_pred_ens, actual=y)"
   ]
  },
  {
   "cell_type": "code",
   "execution_count": 148,
   "id": "f988812b",
   "metadata": {},
   "outputs": [
    {
     "name": "stdout",
     "output_type": "stream",
     "text": [
      "rf Precision: 0.874\n",
      "rf Recall: 0.821\n"
     ]
    }
   ],
   "source": [
    "precision = TP / (TP + FP)\n",
    "recall = TP / (TP + FN)\n",
    "\n",
    "print(f\"rf Precision: {precision:.3f}\")\n",
    "print(f\"rf Recall: {recall:.3f}\")"
   ]
  },
  {
   "cell_type": "markdown",
   "id": "bbcdbfe9",
   "metadata": {},
   "source": [
    "# Final test against test data set\n",
    "\n",
    "- This is the last step before deployment. If we make any optimisations based on this test then we have no clean way to test the model as this test performance will have influenced our decisions!"
   ]
  },
  {
   "cell_type": "code",
   "execution_count": 12,
   "id": "18d579d3",
   "metadata": {},
   "outputs": [],
   "source": [
    "filename = \"test_data.csv\"\n",
    "\n",
    "test_set = pd.read_csv(filename, parse_dates=[0])\n",
    "\n",
    "X_test = test_set.copy().drop(columns = [\"kettle_any\", \"kettle_thresh\"])\n",
    "y_test = test_set[\"kettle_thresh\"].reset_index(drop=True)"
   ]
  },
  {
   "cell_type": "code",
   "execution_count": 13,
   "id": "f4344752",
   "metadata": {},
   "outputs": [],
   "source": [
    "# pass a copy of the data to not overwrite original\n",
    "X_test1 = pd.DataFrame(data = trans_pipeline.fit_transform(X_test.copy()))"
   ]
  },
  {
   "cell_type": "markdown",
   "id": "03aa180b",
   "metadata": {},
   "source": [
    "### Fit random forest"
   ]
  },
  {
   "cell_type": "code",
   "execution_count": 14,
   "id": "01c6447b",
   "metadata": {},
   "outputs": [
    {
     "data": {
      "text/html": [
       "<style>#sk-container-id-1 {color: black;background-color: white;}#sk-container-id-1 pre{padding: 0;}#sk-container-id-1 div.sk-toggleable {background-color: white;}#sk-container-id-1 label.sk-toggleable__label {cursor: pointer;display: block;width: 100%;margin-bottom: 0;padding: 0.3em;box-sizing: border-box;text-align: center;}#sk-container-id-1 label.sk-toggleable__label-arrow:before {content: \"▸\";float: left;margin-right: 0.25em;color: #696969;}#sk-container-id-1 label.sk-toggleable__label-arrow:hover:before {color: black;}#sk-container-id-1 div.sk-estimator:hover label.sk-toggleable__label-arrow:before {color: black;}#sk-container-id-1 div.sk-toggleable__content {max-height: 0;max-width: 0;overflow: hidden;text-align: left;background-color: #f0f8ff;}#sk-container-id-1 div.sk-toggleable__content pre {margin: 0.2em;color: black;border-radius: 0.25em;background-color: #f0f8ff;}#sk-container-id-1 input.sk-toggleable__control:checked~div.sk-toggleable__content {max-height: 200px;max-width: 100%;overflow: auto;}#sk-container-id-1 input.sk-toggleable__control:checked~label.sk-toggleable__label-arrow:before {content: \"▾\";}#sk-container-id-1 div.sk-estimator input.sk-toggleable__control:checked~label.sk-toggleable__label {background-color: #d4ebff;}#sk-container-id-1 div.sk-label input.sk-toggleable__control:checked~label.sk-toggleable__label {background-color: #d4ebff;}#sk-container-id-1 input.sk-hidden--visually {border: 0;clip: rect(1px 1px 1px 1px);clip: rect(1px, 1px, 1px, 1px);height: 1px;margin: -1px;overflow: hidden;padding: 0;position: absolute;width: 1px;}#sk-container-id-1 div.sk-estimator {font-family: monospace;background-color: #f0f8ff;border: 1px dotted black;border-radius: 0.25em;box-sizing: border-box;margin-bottom: 0.5em;}#sk-container-id-1 div.sk-estimator:hover {background-color: #d4ebff;}#sk-container-id-1 div.sk-parallel-item::after {content: \"\";width: 100%;border-bottom: 1px solid gray;flex-grow: 1;}#sk-container-id-1 div.sk-label:hover label.sk-toggleable__label {background-color: #d4ebff;}#sk-container-id-1 div.sk-serial::before {content: \"\";position: absolute;border-left: 1px solid gray;box-sizing: border-box;top: 0;bottom: 0;left: 50%;z-index: 0;}#sk-container-id-1 div.sk-serial {display: flex;flex-direction: column;align-items: center;background-color: white;padding-right: 0.2em;padding-left: 0.2em;position: relative;}#sk-container-id-1 div.sk-item {position: relative;z-index: 1;}#sk-container-id-1 div.sk-parallel {display: flex;align-items: stretch;justify-content: center;background-color: white;position: relative;}#sk-container-id-1 div.sk-item::before, #sk-container-id-1 div.sk-parallel-item::before {content: \"\";position: absolute;border-left: 1px solid gray;box-sizing: border-box;top: 0;bottom: 0;left: 50%;z-index: -1;}#sk-container-id-1 div.sk-parallel-item {display: flex;flex-direction: column;z-index: 1;position: relative;background-color: white;}#sk-container-id-1 div.sk-parallel-item:first-child::after {align-self: flex-end;width: 50%;}#sk-container-id-1 div.sk-parallel-item:last-child::after {align-self: flex-start;width: 50%;}#sk-container-id-1 div.sk-parallel-item:only-child::after {width: 0;}#sk-container-id-1 div.sk-dashed-wrapped {border: 1px dashed gray;margin: 0 0.4em 0.5em 0.4em;box-sizing: border-box;padding-bottom: 0.4em;background-color: white;}#sk-container-id-1 div.sk-label label {font-family: monospace;font-weight: bold;display: inline-block;line-height: 1.2em;}#sk-container-id-1 div.sk-label-container {text-align: center;}#sk-container-id-1 div.sk-container {/* jupyter's `normalize.less` sets `[hidden] { display: none; }` but bootstrap.min.css set `[hidden] { display: none !important; }` so we also need the `!important` here to be able to override the default hidden behavior on the sphinx rendered scikit-learn.org. See: https://github.com/scikit-learn/scikit-learn/issues/21755 */display: inline-block !important;position: relative;}#sk-container-id-1 div.sk-text-repr-fallback {display: none;}</style><div id=\"sk-container-id-1\" class=\"sk-top-container\"><div class=\"sk-text-repr-fallback\"><pre>RandomForestClassifier(max_features=3, n_estimators=8, random_state=42)</pre><b>In a Jupyter environment, please rerun this cell to show the HTML representation or trust the notebook. <br />On GitHub, the HTML representation is unable to render, please try loading this page with nbviewer.org.</b></div><div class=\"sk-container\" hidden><div class=\"sk-item\"><div class=\"sk-estimator sk-toggleable\"><input class=\"sk-toggleable__control sk-hidden--visually\" id=\"sk-estimator-id-1\" type=\"checkbox\" checked><label for=\"sk-estimator-id-1\" class=\"sk-toggleable__label sk-toggleable__label-arrow\">RandomForestClassifier</label><div class=\"sk-toggleable__content\"><pre>RandomForestClassifier(max_features=3, n_estimators=8, random_state=42)</pre></div></div></div></div></div>"
      ],
      "text/plain": [
       "RandomForestClassifier(max_features=3, n_estimators=8, random_state=42)"
      ]
     },
     "execution_count": 14,
     "metadata": {},
     "output_type": "execute_result"
    }
   ],
   "source": [
    "# Fit to training data\n",
    "rf_clf = RandomForestClassifier(random_state=42, max_features=3, n_estimators=8)\n",
    "rf_clf.fit(X1, y)"
   ]
  },
  {
   "cell_type": "code",
   "execution_count": 21,
   "id": "d0a00174",
   "metadata": {},
   "outputs": [],
   "source": [
    "y_test_pred_RF = rf_clf.predict(X_test1)"
   ]
  },
  {
   "cell_type": "markdown",
   "id": "52d61b72",
   "metadata": {},
   "source": [
    "### Fit SVM"
   ]
  },
  {
   "cell_type": "code",
   "execution_count": 22,
   "id": "72ab6d23",
   "metadata": {},
   "outputs": [
    {
     "data": {
      "text/html": [
       "<style>#sk-container-id-2 {color: black;background-color: white;}#sk-container-id-2 pre{padding: 0;}#sk-container-id-2 div.sk-toggleable {background-color: white;}#sk-container-id-2 label.sk-toggleable__label {cursor: pointer;display: block;width: 100%;margin-bottom: 0;padding: 0.3em;box-sizing: border-box;text-align: center;}#sk-container-id-2 label.sk-toggleable__label-arrow:before {content: \"▸\";float: left;margin-right: 0.25em;color: #696969;}#sk-container-id-2 label.sk-toggleable__label-arrow:hover:before {color: black;}#sk-container-id-2 div.sk-estimator:hover label.sk-toggleable__label-arrow:before {color: black;}#sk-container-id-2 div.sk-toggleable__content {max-height: 0;max-width: 0;overflow: hidden;text-align: left;background-color: #f0f8ff;}#sk-container-id-2 div.sk-toggleable__content pre {margin: 0.2em;color: black;border-radius: 0.25em;background-color: #f0f8ff;}#sk-container-id-2 input.sk-toggleable__control:checked~div.sk-toggleable__content {max-height: 200px;max-width: 100%;overflow: auto;}#sk-container-id-2 input.sk-toggleable__control:checked~label.sk-toggleable__label-arrow:before {content: \"▾\";}#sk-container-id-2 div.sk-estimator input.sk-toggleable__control:checked~label.sk-toggleable__label {background-color: #d4ebff;}#sk-container-id-2 div.sk-label input.sk-toggleable__control:checked~label.sk-toggleable__label {background-color: #d4ebff;}#sk-container-id-2 input.sk-hidden--visually {border: 0;clip: rect(1px 1px 1px 1px);clip: rect(1px, 1px, 1px, 1px);height: 1px;margin: -1px;overflow: hidden;padding: 0;position: absolute;width: 1px;}#sk-container-id-2 div.sk-estimator {font-family: monospace;background-color: #f0f8ff;border: 1px dotted black;border-radius: 0.25em;box-sizing: border-box;margin-bottom: 0.5em;}#sk-container-id-2 div.sk-estimator:hover {background-color: #d4ebff;}#sk-container-id-2 div.sk-parallel-item::after {content: \"\";width: 100%;border-bottom: 1px solid gray;flex-grow: 1;}#sk-container-id-2 div.sk-label:hover label.sk-toggleable__label {background-color: #d4ebff;}#sk-container-id-2 div.sk-serial::before {content: \"\";position: absolute;border-left: 1px solid gray;box-sizing: border-box;top: 0;bottom: 0;left: 50%;z-index: 0;}#sk-container-id-2 div.sk-serial {display: flex;flex-direction: column;align-items: center;background-color: white;padding-right: 0.2em;padding-left: 0.2em;position: relative;}#sk-container-id-2 div.sk-item {position: relative;z-index: 1;}#sk-container-id-2 div.sk-parallel {display: flex;align-items: stretch;justify-content: center;background-color: white;position: relative;}#sk-container-id-2 div.sk-item::before, #sk-container-id-2 div.sk-parallel-item::before {content: \"\";position: absolute;border-left: 1px solid gray;box-sizing: border-box;top: 0;bottom: 0;left: 50%;z-index: -1;}#sk-container-id-2 div.sk-parallel-item {display: flex;flex-direction: column;z-index: 1;position: relative;background-color: white;}#sk-container-id-2 div.sk-parallel-item:first-child::after {align-self: flex-end;width: 50%;}#sk-container-id-2 div.sk-parallel-item:last-child::after {align-self: flex-start;width: 50%;}#sk-container-id-2 div.sk-parallel-item:only-child::after {width: 0;}#sk-container-id-2 div.sk-dashed-wrapped {border: 1px dashed gray;margin: 0 0.4em 0.5em 0.4em;box-sizing: border-box;padding-bottom: 0.4em;background-color: white;}#sk-container-id-2 div.sk-label label {font-family: monospace;font-weight: bold;display: inline-block;line-height: 1.2em;}#sk-container-id-2 div.sk-label-container {text-align: center;}#sk-container-id-2 div.sk-container {/* jupyter's `normalize.less` sets `[hidden] { display: none; }` but bootstrap.min.css set `[hidden] { display: none !important; }` so we also need the `!important` here to be able to override the default hidden behavior on the sphinx rendered scikit-learn.org. See: https://github.com/scikit-learn/scikit-learn/issues/21755 */display: inline-block !important;position: relative;}#sk-container-id-2 div.sk-text-repr-fallback {display: none;}</style><div id=\"sk-container-id-2\" class=\"sk-top-container\"><div class=\"sk-text-repr-fallback\"><pre>SVC()</pre><b>In a Jupyter environment, please rerun this cell to show the HTML representation or trust the notebook. <br />On GitHub, the HTML representation is unable to render, please try loading this page with nbviewer.org.</b></div><div class=\"sk-container\" hidden><div class=\"sk-item\"><div class=\"sk-estimator sk-toggleable\"><input class=\"sk-toggleable__control sk-hidden--visually\" id=\"sk-estimator-id-2\" type=\"checkbox\" checked><label for=\"sk-estimator-id-2\" class=\"sk-toggleable__label sk-toggleable__label-arrow\">SVC</label><div class=\"sk-toggleable__content\"><pre>SVC()</pre></div></div></div></div></div>"
      ],
      "text/plain": [
       "SVC()"
      ]
     },
     "execution_count": 22,
     "metadata": {},
     "output_type": "execute_result"
    }
   ],
   "source": [
    "svm_clf = SVC()\n",
    "svm_clf.fit(X1, y)"
   ]
  },
  {
   "cell_type": "code",
   "execution_count": 23,
   "id": "a05d8faf",
   "metadata": {},
   "outputs": [],
   "source": [
    "y_test_pred_SVM = svm_clf.predict(X_test1)"
   ]
  },
  {
   "cell_type": "markdown",
   "id": "2d51b627",
   "metadata": {},
   "source": [
    "### Ensemble"
   ]
  },
  {
   "cell_type": "code",
   "execution_count": 37,
   "id": "004634b8",
   "metadata": {},
   "outputs": [],
   "source": [
    "# Where both models agree\n",
    "y_test_pred_ens = ((y_test_pred_RF == 1) & (y_test_pred_SVM == 1)).astype('int')"
   ]
  },
  {
   "cell_type": "code",
   "execution_count": 38,
   "id": "591b3323",
   "metadata": {},
   "outputs": [
    {
     "name": "stdout",
     "output_type": "stream",
     "text": [
      "RF sum: 430\n",
      "SVM sum: 448\n",
      "ENS sum: 385\n"
     ]
    }
   ],
   "source": [
    "print(f'RF sum: {y_test_pred_RF.sum()}')\n",
    "print(f'SVM sum: {y_test_pred_SVM.sum()}')\n",
    "print(f'ENS sum: {y_test_pred_ens.sum()}')"
   ]
  },
  {
   "cell_type": "markdown",
   "id": "fcc17451",
   "metadata": {},
   "source": [
    "### Ensemble model results"
   ]
  },
  {
   "cell_type": "code",
   "execution_count": 39,
   "id": "de32ffd5",
   "metadata": {},
   "outputs": [
    {
     "data": {
      "image/png": "[encoded data removed]",
      "text/plain": [
       "<Figure size 640x480 with 2 Axes>"
      ]
     },
     "metadata": {},
     "output_type": "display_data"
    }
   ],
   "source": [
    "confusion = confusion_matrix(y_test, y_test_pred_ens)\n",
    "disp = ConfusionMatrixDisplay(confusion_matrix=confusion)\n",
    "\n",
    "disp.plot()\n",
    "plt.show()"
   ]
  },
  {
   "cell_type": "code",
   "execution_count": 87,
   "id": "e6af61f0",
   "metadata": {},
   "outputs": [
    {
     "name": "stdout",
     "output_type": "stream",
     "text": [
      "349 26142 36 115\n",
      "Precision: 0.906\n",
      "Recall: 0.752\n"
     ]
    }
   ],
   "source": [
    "TP, TN, FP, FN = get_true_false_metrics(pred=y_test_pred_ens, actual=y_test)\n",
    "\n",
    "precision = TP / (TP + FP)\n",
    "recall = TP / (TP + FN)\n",
    "\n",
    "print(f\"Precision: {precision:.3f}\")\n",
    "print(f\"Recall: {recall:.3f}\")"
   ]
  },
  {
   "cell_type": "markdown",
   "id": "6ae09c7c",
   "metadata": {},
   "source": [
    "Precision is great but we're missing a lot on recall"
   ]
  },
  {
   "cell_type": "markdown",
   "id": "593233d7",
   "metadata": {},
   "source": [
    "### RF Results only"
   ]
  },
  {
   "cell_type": "code",
   "execution_count": 43,
   "id": "7323b28a",
   "metadata": {},
   "outputs": [
    {
     "data": {
      "image/png": "[encoded data removed]",
      "text/plain": [
       "<Figure size 640x480 with 2 Axes>"
      ]
     },
     "metadata": {},
     "output_type": "display_data"
    }
   ],
   "source": [
    "confusion = confusion_matrix(y_test, y_test_pred_RF)\n",
    "disp = ConfusionMatrixDisplay(confusion_matrix=confusion)\n",
    "\n",
    "disp.plot()\n",
    "plt.show()"
   ]
  },
  {
   "cell_type": "code",
   "execution_count": 88,
   "id": "ad1c1705",
   "metadata": {},
   "outputs": [
    {
     "name": "stdout",
     "output_type": "stream",
     "text": [
      "371 26119 59 93\n",
      "Precision: 0.863\n",
      "Recall: 0.800\n"
     ]
    }
   ],
   "source": [
    "TP, TN, FP, FN = get_true_false_metrics(pred=y_test_pred_RF, actual=y_test)\n",
    "\n",
    "precision = TP / (TP + FP)\n",
    "recall = TP / (TP + FN)\n",
    "\n",
    "print(f\"Precision: {precision:.3f}\")\n",
    "print(f\"Recall: {recall:.3f}\")"
   ]
  },
  {
   "cell_type": "markdown",
   "id": "60701bba",
   "metadata": {},
   "source": [
    "Improved recall at expense of precision"
   ]
  },
  {
   "cell_type": "markdown",
   "id": "4ac632ed",
   "metadata": {},
   "source": [
    "### SVM Only Results"
   ]
  },
  {
   "cell_type": "code",
   "execution_count": 48,
   "id": "d57b6667",
   "metadata": {},
   "outputs": [
    {
     "data": {
      "image/png": "[encoded data removed]",
      "text/plain": [
       "<Figure size 640x480 with 2 Axes>"
      ]
     },
     "metadata": {},
     "output_type": "display_data"
    }
   ],
   "source": [
    "confusion = confusion_matrix(y_test, y_test_pred_SVM)\n",
    "disp = ConfusionMatrixDisplay(confusion_matrix=confusion)\n",
    "\n",
    "disp.plot()\n",
    "plt.show()"
   ]
  },
  {
   "cell_type": "code",
   "execution_count": 89,
   "id": "28f1044a",
   "metadata": {
    "scrolled": true
   },
   "outputs": [
    {
     "name": "stdout",
     "output_type": "stream",
     "text": [
      "389 26119 59 75\n",
      "Precision: 0.868\n",
      "Recall: 0.838\n"
     ]
    }
   ],
   "source": [
    "TP, TN, FP, FN = get_true_false_metrics(pred=y_test_pred_SVM, actual=y_test)\n",
    "\n",
    "precision = TP / (TP + FP)\n",
    "recall = TP / (TP + FN)\n",
    "\n",
    "print(f\"Precision: {precision:.3f}\")\n",
    "print(f\"Recall: {recall:.3f}\")"
   ]
  },
  {
   "cell_type": "markdown",
   "id": "63c4e8da",
   "metadata": {},
   "source": [
    "Worse precision than ensemble but overall better than RF alone, we improved recall without affecting precision\n",
    "\n",
    "NB: We shouldn't be doing this type of analysis on the test set btw!!"
   ]
  },
  {
   "cell_type": "markdown",
   "id": "f3926078",
   "metadata": {},
   "source": [
    "## What about a completely different home (just for fun)\n",
    "\n",
    "i.e. if we train the model on House2 can we use it to predict House8 - spoiler alert, NO!"
   ]
  },
  {
   "cell_type": "code",
   "execution_count": 68,
   "id": "ca4ca936",
   "metadata": {},
   "outputs": [],
   "source": [
    "filename = \"all_data_house8.csv\"\n",
    "\n",
    "test_set_house8 = pd.read_csv(filename, parse_dates=[0])\n",
    "\n",
    "X_test_house8 = test_set_house8.copy().drop(columns = [\"kettle_any\", \"kettle_thresh\"])\n",
    "y_test_house8 = test_set_house8[\"kettle_thresh\"].reset_index(drop=True)"
   ]
  },
  {
   "cell_type": "code",
   "execution_count": 69,
   "id": "75ea1188",
   "metadata": {},
   "outputs": [],
   "source": [
    "# pass a copy of the data to not overwrite original\n",
    "X_test_house8_1 = pd.DataFrame(data = trans_pipeline.fit_transform(X_test_house8.copy()))"
   ]
  },
  {
   "cell_type": "code",
   "execution_count": 75,
   "id": "f67a1263",
   "metadata": {},
   "outputs": [],
   "source": [
    "y_test_pred_RF_house8 = rf_clf.predict(X_test_house8_1)"
   ]
  },
  {
   "cell_type": "code",
   "execution_count": 76,
   "id": "acec4d73",
   "metadata": {},
   "outputs": [],
   "source": [
    "y_test_pred_SVM_house8 = svm_clf.predict(X_test_house8_1)"
   ]
  },
  {
   "cell_type": "code",
   "execution_count": 77,
   "id": "ebbddf82",
   "metadata": {},
   "outputs": [],
   "source": [
    "# Where both models agree\n",
    "y_test_pred_ens_house8 = ((y_test_pred_RF == 1) & (y_test_pred_SVM == 1)).astype('int')"
   ]
  },
  {
   "cell_type": "code",
   "execution_count": 78,
   "id": "01213db1",
   "metadata": {},
   "outputs": [
    {
     "name": "stdout",
     "output_type": "stream",
     "text": [
      "RF sum: 486\n",
      "SVM sum: 1296\n",
      "ENS sum: 385\n"
     ]
    }
   ],
   "source": [
    "print(f'RF sum: {y_test_pred_RF_house8.sum()}')\n",
    "print(f'SVM sum: {y_test_pred_SVM_house8.sum()}')\n",
    "print(f'ENS sum: {y_test_pred_ens_house8.sum()}')"
   ]
  },
  {
   "cell_type": "markdown",
   "id": "8456c652",
   "metadata": {},
   "source": [
    "Interesting - big differences!"
   ]
  },
  {
   "cell_type": "markdown",
   "id": "2807a179",
   "metadata": {},
   "source": [
    "### RF results"
   ]
  },
  {
   "cell_type": "code",
   "execution_count": 80,
   "id": "7f1459ec",
   "metadata": {},
   "outputs": [
    {
     "data": {
      "image/png": "[encoded data removed]",
      "text/plain": [
       "<Figure size 2000x600 with 2 Axes>"
      ]
     },
     "metadata": {},
     "output_type": "display_data"
    }
   ],
   "source": [
    "confusion = confusion_matrix(y_test_house8, y_test_pred_RF_house8)\n",
    "disp = ConfusionMatrixDisplay(confusion_matrix=confusion)\n",
    "\n",
    "disp.plot()\n",
    "plt.show()"
   ]
  },
  {
   "cell_type": "code",
   "execution_count": 90,
   "id": "f11e048f",
   "metadata": {},
   "outputs": [
    {
     "name": "stdout",
     "output_type": "stream",
     "text": [
      "40 139808 446 2129\n",
      "Precision: 0.082\n",
      "Recall: 0.018\n"
     ]
    }
   ],
   "source": [
    "TP, TN, FP, FN = get_true_false_metrics(pred=y_test_pred_RF_house8, actual=y_test_house8)\n",
    "\n",
    "precision = TP / (TP + FP)\n",
    "recall = TP / (TP + FN)\n",
    "\n",
    "print(f\"Precision: {precision:.3f}\")\n",
    "print(f\"Recall: {recall:.3f}\")"
   ]
  },
  {
   "cell_type": "markdown",
   "id": "898d20be",
   "metadata": {},
   "source": [
    "### SVM Results"
   ]
  },
  {
   "cell_type": "code",
   "execution_count": 92,
   "id": "8ae8842f",
   "metadata": {},
   "outputs": [
    {
     "data": {
      "image/png": "[encoded data removed]",
      "text/plain": [
       "<Figure size 2000x600 with 2 Axes>"
      ]
     },
     "metadata": {},
     "output_type": "display_data"
    }
   ],
   "source": [
    "confusion = confusion_matrix(y_test_house8, y_test_pred_SVM_house8)\n",
    "disp = ConfusionMatrixDisplay(confusion_matrix=confusion)\n",
    "\n",
    "disp.plot()\n",
    "plt.show()"
   ]
  },
  {
   "cell_type": "code",
   "execution_count": 93,
   "id": "83b91943",
   "metadata": {},
   "outputs": [
    {
     "name": "stdout",
     "output_type": "stream",
     "text": [
      "316 139274 980 1853\n",
      "Precision: 0.244\n",
      "Recall: 0.146\n"
     ]
    }
   ],
   "source": [
    "TP, TN, FP, FN = get_true_false_metrics(pred=y_test_pred_SVM_house8, actual=y_test_house8)\n",
    "\n",
    "precision = TP / (TP + FP)\n",
    "recall = TP / (TP + FN)\n",
    "\n",
    "print(f\"Precision: {precision:.3f}\")\n",
    "print(f\"Recall: {recall:.3f}\")"
   ]
  },
  {
   "cell_type": "markdown",
   "id": "36d5f2da",
   "metadata": {},
   "source": [
    "### We seem to have a very big overfitting issue - i.e. the model is only applicable to the home it was trained on.\n",
    "\n",
    "Lots we could look at:\n",
    " - check for mistakes/set up better pipeline\n",
    " - remove abs consumption values (e.g. max, min and replace with relative values or even remove them and just work with diffs)..."
   ]
  },
  {
   "cell_type": "markdown",
   "id": "2117a4e0",
   "metadata": {},
   "source": [
    "# THE END\n",
    "## Now go and deploy it :-) "
   ]
  },
  {
   "cell_type": "code",
   "execution_count": null,
   "id": "2492d7a8",
   "metadata": {},
   "outputs": [],
   "source": []
  }
 ],
 "metadata": {
  "kernelspec": {
   "display_name": "Python 3 (ipykernel)",
   "language": "python",
   "name": "python3"
  },
  "language_info": {
   "codemirror_mode": {
    "name": "ipython",
    "version": 3
   },
   "file_extension": ".py",
   "mimetype": "text/x-python",
   "name": "python",
   "nbconvert_exporter": "python",
   "pygments_lexer": "ipython3",
   "version": "3.10.6"
  }
 },
 "nbformat": 4,
 "nbformat_minor": 5
}
